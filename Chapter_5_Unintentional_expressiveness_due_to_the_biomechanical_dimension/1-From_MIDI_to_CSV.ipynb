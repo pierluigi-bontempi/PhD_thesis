{
 "cells": [
  {
   "cell_type": "markdown",
   "id": "48d4112f",
   "metadata": {},
   "source": [
    "# MIDI parsing and df creation"
   ]
  },
  {
   "cell_type": "markdown",
   "id": "9a5e14f8",
   "metadata": {},
   "source": [
    "## Import libraries"
   ]
  },
  {
   "cell_type": "code",
   "execution_count": 1,
   "id": "5d7f943a",
   "metadata": {},
   "outputs": [],
   "source": [
    "import os\n",
    "from mido import MidiFile\n",
    "import mido\n",
    "import pandas as pd\n",
    "import numpy as np"
   ]
  },
  {
   "cell_type": "markdown",
   "id": "c5bb58ed",
   "metadata": {},
   "source": [
    "## Load MIDI file"
   ]
  },
  {
   "cell_type": "code",
   "execution_count": 2,
   "id": "8d5869d3",
   "metadata": {},
   "outputs": [
    {
     "name": "stdout",
     "output_type": "stream",
     "text": [
      "Please insert the MIDI file path and type Enter >>>D:\\Progetti Cubase\\Dataset chitarra\\Dataset\\60_bpm_generated_MIDI.mid\n",
      "Valid path.\n",
      "60_bpm_generated_MIDI\n"
     ]
    }
   ],
   "source": [
    "def load_midi():\n",
    "    \n",
    "    global midifile_path, file_name\n",
    "\n",
    "    midifile_path = input(\"Please insert the MIDI file path and type Enter >>>\")\n",
    "\n",
    "    def path_check(path):\n",
    "        global file_name\n",
    "        if os.path.exists(path):\n",
    "            accept_ext = [\".mid\", \".midi\", \".kar\"]\n",
    "            split_path = os.path.splitext(path)\n",
    "            file_name = (os.path.splitext(os.path.basename(midifile_path))[0])\n",
    "            if split_path[1] not in accept_ext:\n",
    "                print(\"Invalid file format. Please insert the path to a standard MIDI file: \")\n",
    "                return False\n",
    "            else:\n",
    "                return True\n",
    "        else:\n",
    "            print(\"Invalid path. Please insert a valid path to a standard MIDI file: \")\n",
    "            return False\n",
    "\n",
    "    while not path_check(midifile_path):\n",
    "        midifile_path = input()\n",
    "\n",
    "    print(\"Valid path.\")\n",
    "    print(file_name)\n",
    "    \n",
    "load_midi()"
   ]
  },
  {
   "cell_type": "markdown",
   "id": "fcc6f161",
   "metadata": {},
   "source": [
    "## MIDI file df creation"
   ]
  },
  {
   "cell_type": "code",
   "execution_count": 3,
   "id": "ff60fd48",
   "metadata": {
    "scrolled": true
   },
   "outputs": [
    {
     "name": "stdout",
     "output_type": "stream",
     "text": [
      "// File name: 60_bpm_generated_MIDI\n",
      "// Number of track in the MIDI file: 1\n",
      "// Ticks per beat of the MIDI file: 960\n",
      "// Tempo of the MIDI file: 1000000\n",
      "// BPM of the MIDI file: 60\n",
      "// Time signature: 4/4\n",
      "\n",
      "// Number of notes:  1796 \n",
      "\n",
      "   note_numb note_name  dt_note_on  t_dt_note_on  dt_note_off  t_dt_note_off  \\\n",
      "0         76        E5        3879          3879          169           4048   \n",
      "1         75       Ds5          54          4102          215           4317   \n",
      "2         74        D5          44          4361          191           4552   \n",
      "3         73       Cs5          46          4598          176           4774   \n",
      "4         71        B4          53          4827          195           5022   \n",
      "\n",
      "   note_lng   IOI  prec_rest fllw_rest  velocity  t_dt_note_on_ms  \\\n",
      "0       169  3879       3879        54        94             4041   \n",
      "1       215   223         54        44        69             4273   \n",
      "2       191   259         44        46        83             4543   \n",
      "3       176   237         46        53        77             4790   \n",
      "4       195   229         53        46       103             5028   \n",
      "\n",
      "   t_dt_note_off_ms  IOI_ms  \n",
      "0              4217    4041  \n",
      "1              4497     232  \n",
      "2              4742     270  \n",
      "3              4973     247  \n",
      "4              5231     239  \n"
     ]
    }
   ],
   "source": [
    "# Note names - \"s\" for sharp - #\n",
    "notes_names = [\"C-1\", \"Cs-1\", \"D-1\", \"Ds-1\", \"E-1\", \"F-1\", \"Fs-1\", \"G-1\", \"Gs-1\", \"A-1\", \"As-1\", \"B-1\", \"C0\", \"Cs0\", \"D0\", \"Ds0\", \"E0\", \"F0\", \"Fs0\", \"G0\", \"Gs0\", \"A0\", \"As0\", \"B0\", \"C1\", \"Cs1\", \"D1\", \"Ds1\", \"E1\", \"F1\", \"Fs1\", \"G1\", \"Gs1\", \"A1\", \"As1\", \"B1\", \"C2\", \"Cs2\", \"D2\", \"Ds2\", \"E2\", \"F2\", \"Fs2\", \"G2\", \"Gs2\", \"A2\", \"As2\", \"B2\", \"C3\", \"Cs3\", \"D3\", \"Ds3\", \"E3\", \"F3\", \"Fs3\", \"G3\", \"Gs3\", \"A3\", \"As3\", \"B3\", \"C4\", \"Cs4\", \"D4\", \"Ds4\", \"E4\", \"F4\", \"Fs4\", \"G4\", \"Gs4\", \"A4\", \"As4\", \"B4\", \"C5\", \"Cs5\", \"D5\", \"Ds5\", \"E5\", \"F5\", \"Fs5\", \"G5\", \"Gs5\", \"A5\", \"As5\", \"B5\", \"C6\", \"Cs6\", \"D6\", \"Ds6\", \"E6\", \"F6\", \"Fs6\", \"G6\", \"Gs6\", \"A6\", \"As6\", \"B6\", \"C7\", \"Cs7\", \"D7\", \"Ds7\", \"E7\", \"F7\", \"Fs7\", \"G7\", \"Gs7\", \"A7\", \"As7\", \"B7\", \"C8\", \"Cs8\", \"D3\", \"Ds8\", \"E8\", \"F8\", \"Fs8\", \"G8\", \"Gs8\", \"A8\", \"As8\", \"B8\", \"C9\", \"Cs9\", \"D9\", \"Ds9\", \"E9\", \"F9\", \"Fs9\", \"G9\"]\n",
    "\n",
    "def midifile_df_create():\n",
    "    \n",
    "    global notes_list_pd_df, file_name\n",
    "    \n",
    "    ##########################################################################\n",
    "    #######   MIDI object creation and basic metamessages retrieval   ########\n",
    "    ##########################################################################\n",
    "\n",
    "    midifile = MidiFile(midifile_path)  # creates MIDO MidiFile object\n",
    "    \n",
    "    print(\"// File name: \" + str(os.path.splitext(os.path.basename(midifile_path))[0]))\n",
    "    \n",
    "    num_midi_tracks = len(midifile.tracks)\n",
    "    print(\"// Number of track in the MIDI file: \" + str(num_midi_tracks))\n",
    "    \n",
    "    ticks_per_beat = midifile.ticks_per_beat\n",
    "    print(\"// Ticks per beat of the MIDI file: \" + str(ticks_per_beat))\n",
    "    \n",
    "    for i in range(len(midifile.tracks[0])):\n",
    "        try:\n",
    "            midifile.tracks[0][i].tempo\n",
    "        except:\n",
    "            pass\n",
    "        else:\n",
    "            tempo = midifile.tracks[0][i].tempo\n",
    "            print(\"// Tempo of the MIDI file: \" + str(tempo))\n",
    "            bpm = int(round(mido.tempo2bpm(tempo),2))\n",
    "            print(\"// BPM of the MIDI file: \" + str(bpm))\n",
    "            break\n",
    "       \n",
    "    for i in range(len(midifile.tracks[0])):\n",
    "        try:\n",
    "            midifile.tracks[0][i].numerator\n",
    "        except:\n",
    "            pass\n",
    "        else:\n",
    "            numerator = midifile.tracks[0][i].numerator\n",
    "            denominator =  midifile.tracks[0][i].denominator\n",
    "            print(\"// Time signature: \" + str(numerator) + \"/\" + str(denominator) + \"\\n\")\n",
    "            break\n",
    "            \n",
    "\n",
    "    ##########################################################################\n",
    "    ####################   Dataframe creation   ##############################\n",
    "    ##########################################################################\n",
    "    \n",
    "    columns_names = [\"note_numb\", \"note_name\", \"dt_note_on\", \"t_dt_note_on\", \"dt_note_off\", \"t_dt_note_off\", \"note_lng\", \"IOI\", \"prec_rest\", \"fllw_rest\", \"velocity\"]\n",
    "    total_delta_time = 0\n",
    "    notes_list = []\n",
    "    note_on_counter = -1\n",
    "    \n",
    "    for counter in range(len(midifile.tracks[num_midi_tracks - 1])):\n",
    "        \n",
    "        try:  # I check the presence of delta time and possibly sum it to the total_delta_time\n",
    "            midifile.tracks[num_midi_tracks - 1][counter].time\n",
    "        except:\n",
    "            pass\n",
    "        else:\n",
    "            total_delta_time += midifile.tracks[num_midi_tracks - 1][counter].time\n",
    "\n",
    "        try:  # I check if the message is a note\n",
    "            midifile.tracks[num_midi_tracks - 1][counter].note\n",
    "        except:\n",
    "            pass\n",
    "        else:  # I collect note data\n",
    "\n",
    "            # if note on\n",
    "\n",
    "            if (midifile.tracks[num_midi_tracks - 1][counter].type == \"note_on\" and midifile.tracks[num_midi_tracks - 1][counter].velocity != 0):         \n",
    "                note_on_counter += 1\n",
    "                notes_list.append([midifile.tracks[num_midi_tracks - 1][counter].note, notes_names[midifile.tracks[num_midi_tracks - 1][counter].note], midifile.tracks[num_midi_tracks - 1][counter].time, total_delta_time, \"tbp\", \"tbp\", \"tbp\", \"tbp\", \"tbp\", \"tbp\", midifile.tracks[num_midi_tracks - 1][counter].velocity])  # \"tbp\" stands for \"to be populated\"\n",
    "                if len(notes_list) == 1:\n",
    "                        notes_list[0][7] = total_delta_time\n",
    "                if len(notes_list) > 1:\n",
    "                        notes_list[len(notes_list) - 1][7] = (total_delta_time - notes_list[len(notes_list) - 2][3])                     \n",
    "                notes_list[note_on_counter][8] = notes_list[note_on_counter][2]        \n",
    "                if len(notes_list) > 1:\n",
    "                    notes_list[note_on_counter - 1][9] = notes_list[note_on_counter][8]\n",
    "\n",
    "            # if note off\n",
    "\n",
    "            elif midifile.tracks[num_midi_tracks - 1][counter].type == \"note_off\" or midifile.tracks[num_midi_tracks - 1][counter].velocity == 0:\n",
    "                for v in range(len(notes_list)):\n",
    "                    if (notes_list[v][0] == midifile.tracks[num_midi_tracks - 1][counter].note) and (\n",
    "                            notes_list[v][4] == \"tbp\"):\n",
    "                        notes_list[v][4] = midifile.tracks[num_midi_tracks - 1][counter].time\n",
    "                        notes_list[v][5] = total_delta_time\n",
    "                        notes_list[v][6] = notes_list[v][5] - notes_list[v][3]\n",
    "                        break\n",
    "\n",
    "            notes_list_pd_df = pd.DataFrame(notes_list, columns=columns_names)\n",
    "            \n",
    "    notes_list_pd_df.iat[-1, 9] = 0   # manually sets 0 for the pause following the last note\n",
    "    \n",
    "    ms_per_tick = tempo/ticks_per_beat/1000\n",
    "       \n",
    "    number_of_notes = len(notes_list_pd_df.index)\n",
    "    print(\"// Number of notes: \", str(number_of_notes), \"\\n\")\n",
    "    \n",
    "    notes_list_pd_df.drop(['note_name', 'dt_note_on', 'dt_note_off', 'prec_rest', 'fllw_rest'], axis=1)\n",
    "    \n",
    "    \n",
    "midifile_df_create()\n",
    "\n",
    "notes_list_pd_df.rename(columns = {'Column1':'Index'}, inplace = True)\n",
    "notes_list_pd_df.to_csv(str(file_name) + '.csv')\n",
    "\n",
    "print(notes_list_pd_df.head(5))"
   ]
  }
 ],
 "metadata": {
  "kernelspec": {
   "display_name": "Python 3 (ipykernel)",
   "language": "python",
   "name": "python3"
  },
  "language_info": {
   "codemirror_mode": {
    "name": "ipython",
    "version": 3
   },
   "file_extension": ".py",
   "mimetype": "text/x-python",
   "name": "python",
   "nbconvert_exporter": "python",
   "pygments_lexer": "ipython3",
   "version": "3.11.5"
  }
 },
 "nbformat": 4,
 "nbformat_minor": 5
}
